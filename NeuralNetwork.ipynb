{
  "nbformat": 4,
  "nbformat_minor": 0,
  "metadata": {
    "colab": {
      "provenance": []
    },
    "kernelspec": {
      "name": "python3",
      "display_name": "Python 3"
    },
    "language_info": {
      "name": "python"
    }
  },
  "cells": [
    {
      "cell_type": "markdown",
      "source": [
        "**PROGETTO DI MODELING OF DISCRETE EVENT SYSTEMS: ASSEGNAZIONE DI UN POD IN AMBIENTE KUBERNETES**"
      ],
      "metadata": {
        "id": "OHZVrDX82Ftd"
      }
    },
    {
      "cell_type": "markdown",
      "source": [
        "# 1. Esplorazione ed elaborazione dei dati"
      ],
      "metadata": {
        "id": "pUofpdAz2lhS"
      }
    },
    {
      "cell_type": "markdown",
      "source": [
        "Per questa fase in particolare, dobbiamo:\n",
        "\n",
        "* Leggere il file metrics.csv e convertire i suoi dati in array;\n",
        "* Scalare i dati attraverso la normalizzazione;\n",
        "* Dividere il nostro set di dati in set di training, set di validazione e set di test;"
      ],
      "metadata": {
        "id": "zDiLPoEX2dPV"
      }
    },
    {
      "cell_type": "markdown",
      "source": [
        "**Importiamo le librerie**"
      ],
      "metadata": {
        "id": "loXnA_XO2iEQ"
      }
    },
    {
      "cell_type": "code",
      "execution_count": null,
      "metadata": {
        "id": "WEvDkefaQMIz"
      },
      "outputs": [],
      "source": [
        "import pandas as pd\n",
        "import numpy as np\n",
        "import torch\n",
        "import tensorflow as tf\n",
        "from tensorflow.keras.utils import plot_model"
      ]
    },
    {
      "cell_type": "markdown",
      "source": [
        "**Caricamento e pulizia dei dati**"
      ],
      "metadata": {
        "id": "ddEjzG922v2P"
      }
    },
    {
      "cell_type": "code",
      "source": [
        "# Dati statici\n",
        "cores=2000\n",
        "memory=4015004\n",
        "kB=1048.58 # per convertire da Mi a kB\n",
        "\n",
        "lines = list()\n",
        "df = pd.read_csv('/content/metrics.csv',sep=';')\n",
        "df.dropna(inplace=True, axis=0,subset = ['CPU (cores)', 'MEMORY (bytes)', 'PARAMETER', 'EXECUTION START TIME (seconds)'])\n",
        "df"
      ],
      "metadata": {
        "id": "wexxI8mSQpVF",
        "colab": {
          "base_uri": "https://localhost:8080/",
          "height": 424
        },
        "outputId": "811ca8c4-5c47-4c6a-b908-3111fb7706c9"
      },
      "execution_count": null,
      "outputs": [
        {
          "output_type": "execute_result",
          "data": {
            "text/plain": [
              "          NAME NODE CPU (cores) MEMORY (bytes)  ACTIVE PODS  TASK  PARAMETER  \\\n",
              "0      cs-modeling1       1966m         1623Mi            1     2          2   \n",
              "1      cs-modeling1        374m         1622Mi            1     2          3   \n",
              "2      cs-modeling1       1943m         1646Mi            2     1          2   \n",
              "4      cs-modeling1       1986m         1665Mi            3     2          3   \n",
              "5      cs-modeling1       1980m         1672Mi            2     1          1   \n",
              "...             ...         ...            ...          ...   ...        ...   \n",
              "10275  cs-modeling1       1989m         1968Mi            5     1          4   \n",
              "10276  cs-modeling1       1999m         1992Mi            5     2          4   \n",
              "10277  cs-modeling1       1976m         1228Mi            5     1          5   \n",
              "10278  cs-modeling1       1991m         1209Mi            5     1          4   \n",
              "10281  cs-modeling1       1982m         1321Mi            5     2          2   \n",
              "\n",
              "       EXECUTION START TIME (seconds)  \n",
              "0                               77126  \n",
              "1                               77187  \n",
              "2                               77256  \n",
              "4                               77398  \n",
              "5                               77471  \n",
              "...                               ...  \n",
              "10275                           66247  \n",
              "10276                           66318  \n",
              "10277                           66412  \n",
              "10278                           66624  \n",
              "10281                           66835  \n",
              "\n",
              "[9944 rows x 7 columns]"
            ],
            "text/html": [
              "\n",
              "  <div id=\"df-1efb1e2f-2a31-48ab-a7f4-3712c7f64215\">\n",
              "    <div class=\"colab-df-container\">\n",
              "      <div>\n",
              "<style scoped>\n",
              "    .dataframe tbody tr th:only-of-type {\n",
              "        vertical-align: middle;\n",
              "    }\n",
              "\n",
              "    .dataframe tbody tr th {\n",
              "        vertical-align: top;\n",
              "    }\n",
              "\n",
              "    .dataframe thead th {\n",
              "        text-align: right;\n",
              "    }\n",
              "</style>\n",
              "<table border=\"1\" class=\"dataframe\">\n",
              "  <thead>\n",
              "    <tr style=\"text-align: right;\">\n",
              "      <th></th>\n",
              "      <th>NAME NODE</th>\n",
              "      <th>CPU (cores)</th>\n",
              "      <th>MEMORY (bytes)</th>\n",
              "      <th>ACTIVE PODS</th>\n",
              "      <th>TASK</th>\n",
              "      <th>PARAMETER</th>\n",
              "      <th>EXECUTION START TIME (seconds)</th>\n",
              "    </tr>\n",
              "  </thead>\n",
              "  <tbody>\n",
              "    <tr>\n",
              "      <th>0</th>\n",
              "      <td>cs-modeling1</td>\n",
              "      <td>1966m</td>\n",
              "      <td>1623Mi</td>\n",
              "      <td>1</td>\n",
              "      <td>2</td>\n",
              "      <td>2</td>\n",
              "      <td>77126</td>\n",
              "    </tr>\n",
              "    <tr>\n",
              "      <th>1</th>\n",
              "      <td>cs-modeling1</td>\n",
              "      <td>374m</td>\n",
              "      <td>1622Mi</td>\n",
              "      <td>1</td>\n",
              "      <td>2</td>\n",
              "      <td>3</td>\n",
              "      <td>77187</td>\n",
              "    </tr>\n",
              "    <tr>\n",
              "      <th>2</th>\n",
              "      <td>cs-modeling1</td>\n",
              "      <td>1943m</td>\n",
              "      <td>1646Mi</td>\n",
              "      <td>2</td>\n",
              "      <td>1</td>\n",
              "      <td>2</td>\n",
              "      <td>77256</td>\n",
              "    </tr>\n",
              "    <tr>\n",
              "      <th>4</th>\n",
              "      <td>cs-modeling1</td>\n",
              "      <td>1986m</td>\n",
              "      <td>1665Mi</td>\n",
              "      <td>3</td>\n",
              "      <td>2</td>\n",
              "      <td>3</td>\n",
              "      <td>77398</td>\n",
              "    </tr>\n",
              "    <tr>\n",
              "      <th>5</th>\n",
              "      <td>cs-modeling1</td>\n",
              "      <td>1980m</td>\n",
              "      <td>1672Mi</td>\n",
              "      <td>2</td>\n",
              "      <td>1</td>\n",
              "      <td>1</td>\n",
              "      <td>77471</td>\n",
              "    </tr>\n",
              "    <tr>\n",
              "      <th>...</th>\n",
              "      <td>...</td>\n",
              "      <td>...</td>\n",
              "      <td>...</td>\n",
              "      <td>...</td>\n",
              "      <td>...</td>\n",
              "      <td>...</td>\n",
              "      <td>...</td>\n",
              "    </tr>\n",
              "    <tr>\n",
              "      <th>10275</th>\n",
              "      <td>cs-modeling1</td>\n",
              "      <td>1989m</td>\n",
              "      <td>1968Mi</td>\n",
              "      <td>5</td>\n",
              "      <td>1</td>\n",
              "      <td>4</td>\n",
              "      <td>66247</td>\n",
              "    </tr>\n",
              "    <tr>\n",
              "      <th>10276</th>\n",
              "      <td>cs-modeling1</td>\n",
              "      <td>1999m</td>\n",
              "      <td>1992Mi</td>\n",
              "      <td>5</td>\n",
              "      <td>2</td>\n",
              "      <td>4</td>\n",
              "      <td>66318</td>\n",
              "    </tr>\n",
              "    <tr>\n",
              "      <th>10277</th>\n",
              "      <td>cs-modeling1</td>\n",
              "      <td>1976m</td>\n",
              "      <td>1228Mi</td>\n",
              "      <td>5</td>\n",
              "      <td>1</td>\n",
              "      <td>5</td>\n",
              "      <td>66412</td>\n",
              "    </tr>\n",
              "    <tr>\n",
              "      <th>10278</th>\n",
              "      <td>cs-modeling1</td>\n",
              "      <td>1991m</td>\n",
              "      <td>1209Mi</td>\n",
              "      <td>5</td>\n",
              "      <td>1</td>\n",
              "      <td>4</td>\n",
              "      <td>66624</td>\n",
              "    </tr>\n",
              "    <tr>\n",
              "      <th>10281</th>\n",
              "      <td>cs-modeling1</td>\n",
              "      <td>1982m</td>\n",
              "      <td>1321Mi</td>\n",
              "      <td>5</td>\n",
              "      <td>2</td>\n",
              "      <td>2</td>\n",
              "      <td>66835</td>\n",
              "    </tr>\n",
              "  </tbody>\n",
              "</table>\n",
              "<p>9944 rows × 7 columns</p>\n",
              "</div>\n",
              "      <button class=\"colab-df-convert\" onclick=\"convertToInteractive('df-1efb1e2f-2a31-48ab-a7f4-3712c7f64215')\"\n",
              "              title=\"Convert this dataframe to an interactive table.\"\n",
              "              style=\"display:none;\">\n",
              "        \n",
              "  <svg xmlns=\"http://www.w3.org/2000/svg\" height=\"24px\"viewBox=\"0 0 24 24\"\n",
              "       width=\"24px\">\n",
              "    <path d=\"M0 0h24v24H0V0z\" fill=\"none\"/>\n",
              "    <path d=\"M18.56 5.44l.94 2.06.94-2.06 2.06-.94-2.06-.94-.94-2.06-.94 2.06-2.06.94zm-11 1L8.5 8.5l.94-2.06 2.06-.94-2.06-.94L8.5 2.5l-.94 2.06-2.06.94zm10 10l.94 2.06.94-2.06 2.06-.94-2.06-.94-.94-2.06-.94 2.06-2.06.94z\"/><path d=\"M17.41 7.96l-1.37-1.37c-.4-.4-.92-.59-1.43-.59-.52 0-1.04.2-1.43.59L10.3 9.45l-7.72 7.72c-.78.78-.78 2.05 0 2.83L4 21.41c.39.39.9.59 1.41.59.51 0 1.02-.2 1.41-.59l7.78-7.78 2.81-2.81c.8-.78.8-2.07 0-2.86zM5.41 20L4 18.59l7.72-7.72 1.47 1.35L5.41 20z\"/>\n",
              "  </svg>\n",
              "      </button>\n",
              "      \n",
              "  <style>\n",
              "    .colab-df-container {\n",
              "      display:flex;\n",
              "      flex-wrap:wrap;\n",
              "      gap: 12px;\n",
              "    }\n",
              "\n",
              "    .colab-df-convert {\n",
              "      background-color: #E8F0FE;\n",
              "      border: none;\n",
              "      border-radius: 50%;\n",
              "      cursor: pointer;\n",
              "      display: none;\n",
              "      fill: #1967D2;\n",
              "      height: 32px;\n",
              "      padding: 0 0 0 0;\n",
              "      width: 32px;\n",
              "    }\n",
              "\n",
              "    .colab-df-convert:hover {\n",
              "      background-color: #E2EBFA;\n",
              "      box-shadow: 0px 1px 2px rgba(60, 64, 67, 0.3), 0px 1px 3px 1px rgba(60, 64, 67, 0.15);\n",
              "      fill: #174EA6;\n",
              "    }\n",
              "\n",
              "    [theme=dark] .colab-df-convert {\n",
              "      background-color: #3B4455;\n",
              "      fill: #D2E3FC;\n",
              "    }\n",
              "\n",
              "    [theme=dark] .colab-df-convert:hover {\n",
              "      background-color: #434B5C;\n",
              "      box-shadow: 0px 1px 3px 1px rgba(0, 0, 0, 0.15);\n",
              "      filter: drop-shadow(0px 1px 2px rgba(0, 0, 0, 0.3));\n",
              "      fill: #FFFFFF;\n",
              "    }\n",
              "  </style>\n",
              "\n",
              "      <script>\n",
              "        const buttonEl =\n",
              "          document.querySelector('#df-1efb1e2f-2a31-48ab-a7f4-3712c7f64215 button.colab-df-convert');\n",
              "        buttonEl.style.display =\n",
              "          google.colab.kernel.accessAllowed ? 'block' : 'none';\n",
              "\n",
              "        async function convertToInteractive(key) {\n",
              "          const element = document.querySelector('#df-1efb1e2f-2a31-48ab-a7f4-3712c7f64215');\n",
              "          const dataTable =\n",
              "            await google.colab.kernel.invokeFunction('convertToInteractive',\n",
              "                                                     [key], {});\n",
              "          if (!dataTable) return;\n",
              "\n",
              "          const docLinkHtml = 'Like what you see? Visit the ' +\n",
              "            '<a target=\"_blank\" href=https://colab.research.google.com/notebooks/data_table.ipynb>data table notebook</a>'\n",
              "            + ' to learn more about interactive tables.';\n",
              "          element.innerHTML = '';\n",
              "          dataTable['output_type'] = 'display_data';\n",
              "          await google.colab.output.renderOutput(dataTable, element);\n",
              "          const docLink = document.createElement('div');\n",
              "          docLink.innerHTML = docLinkHtml;\n",
              "          element.appendChild(docLink);\n",
              "        }\n",
              "      </script>\n",
              "    </div>\n",
              "  </div>\n",
              "  "
            ]
          },
          "metadata": {},
          "execution_count": 2
        }
      ]
    },
    {
      "cell_type": "markdown",
      "source": [
        "**Normalizzazione**"
      ],
      "metadata": {
        "id": "zoJi8-c228YM"
      }
    },
    {
      "cell_type": "code",
      "source": [
        "for elem in df['CPU (cores)']:\n",
        "    cpu_old=int(float(elem[0:len(elem)-1])) #Non considero l'unità di misura (m)\n",
        "    cpu_new=cpu_old/cores \n",
        "    if cpu_new>1:\n",
        "        cpu_new=1.0\n",
        "    df['CPU (cores)']=df['CPU (cores)'].str.replace(str(cpu_old)+\"m\", str(cpu_new)[0:5])\n",
        "\n",
        "for elem in df['MEMORY (bytes)']:\n",
        "    mem_old=int(float(elem[0:len(elem)-2])) #Non considero l'unità di misura (Mi)\n",
        "    mem_new=mem_old*kB/memory\n",
        "    if mem_new>1:\n",
        "        mem_new=1.0\n",
        "    df['MEMORY (bytes)']=df['MEMORY (bytes)'].str.replace(str(mem_old)+\"Mi\", str(mem_new)[0:5])\n",
        "\n",
        "for elem in df['ACTIVE PODS']:\n",
        "    oldPods=int(float(elem))\n",
        "    newPods=int(float(elem))/5\n",
        "    df['ACTIVE PODS']=df['ACTIVE PODS'].replace(oldPods, newPods)\n",
        "\n",
        "for elem in df['EXECUTION START TIME (seconds)']:\n",
        "    oldExec=int(float(elem))\n",
        "    newExec=int(float(elem))/86400\n",
        "    df['EXECUTION START TIME (seconds)']=df['EXECUTION START TIME (seconds)'].replace(oldExec, round(newExec, 3))\n",
        "print(df)"
      ],
      "metadata": {
        "id": "tzc7rrcOSBBF",
        "colab": {
          "base_uri": "https://localhost:8080/"
        },
        "outputId": "cdb7f18f-d10a-406c-bd01-6a43a9c6425e"
      },
      "execution_count": null,
      "outputs": [
        {
          "output_type": "stream",
          "name": "stdout",
          "text": [
            "          NAME NODE CPU (cores) MEMORY (bytes)  ACTIVE PODS  TASK  PARAMETER  \\\n",
            "0      cs-modeling1       0.983          0.423          0.2     2          2   \n",
            "1      cs-modeling1       0.187          0.423          0.2     2          3   \n",
            "2      cs-modeling1       0.971          0.429          0.4     1          2   \n",
            "4      cs-modeling1       0.993          0.434          0.6     2          3   \n",
            "5      cs-modeling1        0.99          0.436          0.4     1          1   \n",
            "...             ...         ...            ...          ...   ...        ...   \n",
            "10275  cs-modeling1       0.994          0.513          0.2     1          4   \n",
            "10276  cs-modeling1       0.999          0.520          0.2     2          4   \n",
            "10277  cs-modeling1       0.988          0.320          0.2     1          5   \n",
            "10278  cs-modeling1    1990.000          0.315          0.2     1          4   \n",
            "10281  cs-modeling1     190.041          0.344          0.2     2          2   \n",
            "\n",
            "       EXECUTION START TIME (seconds)  \n",
            "0                               0.893  \n",
            "1                               0.893  \n",
            "2                               0.894  \n",
            "4                               0.896  \n",
            "5                               0.897  \n",
            "...                               ...  \n",
            "10275                           0.767  \n",
            "10276                           0.768  \n",
            "10277                           0.769  \n",
            "10278                           0.771  \n",
            "10281                           0.774  \n",
            "\n",
            "[9944 rows x 7 columns]\n"
          ]
        }
      ]
    },
    {
      "cell_type": "markdown",
      "source": [
        "**Individuazione delle features di input (X) e target o valori da predire(Y)**"
      ],
      "metadata": {
        "id": "KbgAqkRV3B2E"
      }
    },
    {
      "cell_type": "code",
      "source": [
        "X=df['EXECUTION START TIME (seconds)'].values #input\n",
        "Y=df[['CPU (cores)','MEMORY (bytes)','ACTIVE PODS']].values #target \n",
        "\n",
        "print(X,'\\n')\n",
        "print(Y,'\\n')"
      ],
      "metadata": {
        "id": "LezHhIctSJ3R",
        "colab": {
          "base_uri": "https://localhost:8080/"
        },
        "outputId": "2f49c6cf-d58b-484b-cfa8-5fdf3f88cd0a"
      },
      "execution_count": null,
      "outputs": [
        {
          "output_type": "stream",
          "name": "stdout",
          "text": [
            "[0.893 0.893 0.894 ... 0.769 0.771 0.774] \n",
            "\n",
            "[['0.983' '0.423' 0.2]\n",
            " ['0.187' '0.423' 0.2]\n",
            " ['0.971' '0.429' 0.4]\n",
            " ...\n",
            " ['0.988' '0.320' 0.2]\n",
            " ['1990.000' '0.315' 0.2]\n",
            " ['190.041' '0.344' 0.2]] \n",
            "\n"
          ]
        }
      ]
    },
    {
      "cell_type": "markdown",
      "source": [
        "**Split dei dati**"
      ],
      "metadata": {
        "id": "pTZ-IbAVJTIO"
      }
    },
    {
      "cell_type": "markdown",
      "source": [
        "Dalla libreria di Scikit-learn per lo split dei dati usiamo il 'train_test_split', che come suggerisce il nome, divide il nostro set di dati in un set di train e in un set di test. Per prima cosa importiamo la libreria di cui abbiamo bisogno:"
      ],
      "metadata": {
        "id": "clcIoeO_3dOj"
      }
    },
    {
      "cell_type": "code",
      "source": [
        "from sklearn.model_selection import train_test_split"
      ],
      "metadata": {
        "id": "TzWS1wGvV_WO"
      },
      "execution_count": null,
      "outputs": []
    },
    {
      "cell_type": "markdown",
      "source": [
        "Quindi, dividiamo il set di dati in questo modo:"
      ],
      "metadata": {
        "id": "07ed_0uR3qtD"
      }
    },
    {
      "cell_type": "code",
      "source": [
        "X_train, X_val_and_test, Y_train, Y_val_and_test = train_test_split(X, Y, test_size=0.3)"
      ],
      "metadata": {
        "id": "kQqegJp_3nE6"
      },
      "execution_count": null,
      "outputs": []
    },
    {
      "cell_type": "markdown",
      "source": [
        "Le dimensioni di val_e_test saranno pari al 30% del set di dati complessivo. Il codice memorizzerà i dati divisi nelle prime quattro variabili a sinistra del segno di uguale, come suggeriscono i nomi delle variabili.\n",
        "\n",
        "Purtroppo, questa funzione ci aiuta solo a dividere il nostro set di dati in due. Poiché vogliamo un insieme di validazione e un insieme di test separati, possiamo usare la stessa funzione per eseguire nuovamente la divisione su val_and_test:"
      ],
      "metadata": {
        "id": "znBbs94F3ucd"
      }
    },
    {
      "cell_type": "code",
      "source": [
        "X_val, X_test, Y_val, Y_test = train_test_split(X_val_and_test, Y_val_and_test, test_size=0.5)"
      ],
      "metadata": {
        "id": "gOQmI3OWWLYP"
      },
      "execution_count": null,
      "outputs": []
    },
    {
      "cell_type": "markdown",
      "source": [
        "Il codice precedente dividerà le dimensioni di val_e_test in parti uguali (50%) per l'insieme di validazione e l'insieme di test.\n",
        "\n",
        "In sintesi, ora abbiamo un totale di sei variabili per i nostri set di dati che utilizzeremo:\n",
        "\n",
        "* X_train (70% dell'intero set di dati)\n",
        "* X_val (15% dell'intero set di dati)\n",
        "* X_test (15% dell'intero set di dati)\n",
        "* Y_train (70% del dataset completo)\n",
        "* Y_val (15% del dataset completo)\n",
        "* Y_test (15% dell'intero set di dati)\n"
      ],
      "metadata": {
        "id": "9wzjkvGQ4BBo"
      }
    },
    {
      "cell_type": "markdown",
      "source": [
        "Vediamo le dimensioni di ciascun array, è sufficiente eseguire:"
      ],
      "metadata": {
        "id": "3QZwcvXd4i5j"
      }
    },
    {
      "cell_type": "code",
      "source": [
        "print(X_train.shape, X_val.shape, X_test.shape, Y_train.shape, Y_val.shape, Y_test.shape)"
      ],
      "metadata": {
        "id": "paFCaz-HWT_d",
        "colab": {
          "base_uri": "https://localhost:8080/"
        },
        "outputId": "218e7137-bcae-4ee1-96dd-5f82e1ec8b1f"
      },
      "execution_count": null,
      "outputs": [
        {
          "output_type": "stream",
          "name": "stdout",
          "text": [
            "(6960,) (1492,) (1492,) (6960, 3) (1492, 3) (1492, 3)\n"
          ]
        }
      ]
    },
    {
      "cell_type": "markdown",
      "source": [
        "# 2. Multi-layer Perceptron"
      ],
      "metadata": {
        "id": "mztNOav24quK"
      }
    },
    {
      "cell_type": "markdown",
      "source": [
        "Ora dobbiamo descrivere questa architettura alla libreria Keras. Utilizzeremo il modello sequenziale, il che significa che dobbiamo semplicemente descrivere i livelli in sequenza.\n",
        "\n",
        "Per prima cosa, importiamo il codice necessario dalla libreria Keras:"
      ],
      "metadata": {
        "id": "wLKrzpJO5DBU"
      }
    },
    {
      "cell_type": "code",
      "source": [
        "from keras.models import Sequential\n",
        "from keras.layers import Dense"
      ],
      "metadata": {
        "id": "m2fLWHUXWaiD"
      },
      "execution_count": null,
      "outputs": []
    },
    {
      "cell_type": "markdown",
      "source": [
        "**Trasposta dei dati**"
      ],
      "metadata": {
        "id": "2z219saU4vLE"
      }
    },
    {
      "cell_type": "code",
      "source": [
        "X_train=X_train.T\n",
        "Y_train=Y_train.T\n",
        "#print(X_train)\n",
        "#print(Y_train)"
      ],
      "metadata": {
        "id": "IqvYQUxy-jpq"
      },
      "execution_count": null,
      "outputs": []
    },
    {
      "cell_type": "code",
      "source": [
        "print(X_train.shape, X_val.shape, X_test.shape, Y_train.shape, Y_val.shape, Y_test.shape)"
      ],
      "metadata": {
        "colab": {
          "base_uri": "https://localhost:8080/"
        },
        "id": "fS64kbs_cqhj",
        "outputId": "87ac6bdd-a4dc-46df-8e6d-811aeef30f00"
      },
      "execution_count": null,
      "outputs": [
        {
          "output_type": "stream",
          "name": "stdout",
          "text": [
            "(6960,) (1492,) (1492,) (3, 6960) (1492, 3) (1492, 3)\n"
          ]
        }
      ]
    },
    {
      "cell_type": "markdown",
      "source": [
        "**Impostare l'architettura della rete neurale: MLP**"
      ],
      "metadata": {
        "id": "ghTHj-aP4251"
      }
    },
    {
      "cell_type": "markdown",
      "source": [
        "Nella nostra architettura di rete abbiamo:\n",
        "\n",
        "1.   Il livello di input definito sul primo livello intermedio;\n",
        "2.   Il livello di output\n",
        "\n",
        "Nello specifico:\n",
        "*   **Input layer:** 1 neurone;\n",
        "*   **Hidden layer:** 5 neuroni;\n",
        "*   **Output layer:** 3 neuroni;"
      ],
      "metadata": {
        "id": "mxcksd79nsw9"
      }
    },
    {
      "cell_type": "code",
      "source": [
        "model = Sequential([\n",
        "    Dense(5, activation='relu', input_shape=(1,)), \n",
        "    Dense(3, activation='sigmoid') \n",
        "])\n",
        "model.summary()\n",
        "plot_model(model, to_file='model.png', show_shapes=True, show_layer_names=True)"
      ],
      "metadata": {
        "id": "7SvfHphEWckh",
        "colab": {
          "base_uri": "https://localhost:8080/",
          "height": 538
        },
        "outputId": "6e322840-d9c0-437f-d50f-917bd2237835"
      },
      "execution_count": null,
      "outputs": [
        {
          "output_type": "stream",
          "name": "stdout",
          "text": [
            "Model: \"sequential\"\n",
            "_________________________________________________________________\n",
            " Layer (type)                Output Shape              Param #   \n",
            "=================================================================\n",
            " dense (Dense)               (None, 5)                 10        \n",
            "                                                                 \n",
            " dense_1 (Dense)             (None, 3)                 18        \n",
            "                                                                 \n",
            "=================================================================\n",
            "Total params: 28\n",
            "Trainable params: 28\n",
            "Non-trainable params: 0\n",
            "_________________________________________________________________\n"
          ]
        },
        {
          "output_type": "execute_result",
          "data": {
            "image/png": "[encoded data removed]",
            "text/plain": [
              "<IPython.core.display.Image object>"
            ]
          },
          "metadata": {},
          "execution_count": 12
        }
      ]
    },
    {
      "cell_type": "markdown",
      "source": [
        "![Diagramma senza titolo.drawio.png](data:image/png;base64,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)\n"
      ],
      "metadata": {
        "id": "n7Xye-h6UA6F"
      }
    },
    {
      "cell_type": "markdown",
      "source": [
        "**Configurazione del modello**"
      ],
      "metadata": {
        "id": "5Bhl2fEC5aJi"
      }
    },
    {
      "cell_type": "markdown",
      "source": [
        "Ora che abbiamo specificato la nostra architettura, dobbiamo ottimizzare i valori. Prima di iniziare il training, è necessario configurare il modello, in particolare dobbiamo:\n",
        "\n",
        "* Indicare l'algoritmo che si vuole utilizzare per l'ottimizzazione;\n",
        "* La funzione di perdita da utilizzare;\n",
        "* Le metriche che si vogliono tracciare oltre alla funzione di perdita, nel nostro caso l'accuracy;"
      ],
      "metadata": {
        "id": "6YAEF6OK5btU"
      }
    },
    {
      "cell_type": "markdown",
      "source": [
        "Per configurare il modello con queste impostazioni è necessario richiamare la funzione model.compile, in questo modo:"
      ],
      "metadata": {
        "id": "jyU4-Nv95sbO"
      }
    },
    {
      "cell_type": "code",
      "source": [
        "model.compile(optimizer='adam',\n",
        "             loss='mse',\n",
        "             metrics=['accuracy'])"
      ],
      "metadata": {
        "id": "BQ8gsLZeWhrI"
      },
      "execution_count": null,
      "outputs": []
    },
    {
      "cell_type": "markdown",
      "source": [
        " **Trasformare i record in valori double, poichè TensorFlow non supporta i float**"
      ],
      "metadata": {
        "id": "5Hm2VvSrMAqj"
      }
    },
    {
      "cell_type": "code",
      "source": [
        "X_train = np.asarray(X_train).astype(np.double)\n",
        "Y_train = np.asarray(Y_train).astype(np.double)\n",
        "X_val = np.asarray(X_val).astype(np.double)\n",
        "Y_val = np.asarray(Y_val).astype(np.double)\n",
        "X_test = np.asarray(X_test).astype(np.double)\n",
        "Y_test = np.asarray(Y_test).astype(np.double)"
      ],
      "metadata": {
        "id": "EDg9e8rgca7z"
      },
      "execution_count": null,
      "outputs": []
    },
    {
      "cell_type": "markdown",
      "source": [
        "**Training dei dati**"
      ],
      "metadata": {
        "id": "Xnna98V_byTI"
      }
    },
    {
      "cell_type": "markdown",
      "source": [
        "La funzione utilizzata per il training è chiamata \"fit\", poiché stiamo adattando i parametri ai dati. Dobbiamo specificare su quali dati ci stiamo allenando, ovvero X_train e Y_train trasposto. Quindi, si specifica la dimensione del mini-batch, in questo caso 32 e la durata del training (epochs). Infine, specifichiamo quali sono i dati per la validazione, in modo che si veda come il modello reagisce a questi dati in ogni punto. Questa funzione produrrà una cronologia, che salveremo nella variabile hist. Utilizzeremo questa variabile più avanti, quando arriveremo alla visualizzazione. Otterremo: l'andamento della funzione di perdita per il set di dati di training (loss) e validazione (val_loss), l'andamento della metrica accuracy per il set di dati di training (accuracy) e validazione (val_accuracy). "
      ],
      "metadata": {
        "id": "8MaJu4CNeDH4"
      }
    },
    {
      "cell_type": "code",
      "source": [
        "print(X_train.shape, Y_train.shape, X_val.shape, Y_val.shape)\n",
        "hist = model.fit(X_train, Y_train.T,\n",
        "          batch_size=32, epochs=50,\n",
        "          validation_data=(X_val, Y_val))"
      ],
      "metadata": {
        "id": "S6MnWat5l-d8",
        "colab": {
          "base_uri": "https://localhost:8080/"
        },
        "outputId": "fbc995ec-baba-4138-df8c-f89aa2df7c45"
      },
      "execution_count": null,
      "outputs": [
        {
          "output_type": "stream",
          "name": "stdout",
          "text": [
            "(6960,) (3, 6960) (1492,) (1492, 3)\n",
            "Epoch 1/50\n",
            "218/218 [==============================] - 1s 3ms/step - loss: 180275.1250 - accuracy: 0.8698 - val_loss: 190298.0000 - val_accuracy: 0.8760\n",
            "Epoch 2/50\n",
            "218/218 [==============================] - 0s 2ms/step - loss: 180253.4844 - accuracy: 0.8698 - val_loss: 190274.1719 - val_accuracy: 0.8760\n",
            "Epoch 3/50\n",
            "218/218 [==============================] - 0s 2ms/step - loss: 180231.4531 - accuracy: 0.8698 - val_loss: 190251.2344 - val_accuracy: 0.8760\n",
            "Epoch 4/50\n",
            "218/218 [==============================] - 0s 2ms/step - loss: 180210.6875 - accuracy: 0.8698 - val_loss: 190232.0625 - val_accuracy: 0.8760\n",
            "Epoch 5/50\n",
            "218/218 [==============================] - 0s 2ms/step - loss: 180194.6875 - accuracy: 0.8698 - val_loss: 190219.6875 - val_accuracy: 0.8760\n",
            "Epoch 6/50\n",
            "218/218 [==============================] - 0s 2ms/step - loss: 180185.3750 - accuracy: 0.8698 - val_loss: 190213.4688 - val_accuracy: 0.8760\n",
            "Epoch 7/50\n",
            "218/218 [==============================] - 0s 2ms/step - loss: 180180.5781 - accuracy: 0.8698 - val_loss: 190210.2969 - val_accuracy: 0.8760\n",
            "Epoch 8/50\n",
            "218/218 [==============================] - 0s 2ms/step - loss: 180178.0938 - accuracy: 0.8698 - val_loss: 190208.6406 - val_accuracy: 0.8760\n",
            "Epoch 9/50\n",
            "218/218 [==============================] - 0s 2ms/step - loss: 180176.6406 - accuracy: 0.8698 - val_loss: 190207.6562 - val_accuracy: 0.8760\n",
            "Epoch 10/50\n",
            "218/218 [==============================] - 0s 2ms/step - loss: 180175.8281 - accuracy: 0.8698 - val_loss: 190207.0156 - val_accuracy: 0.8760\n",
            "Epoch 11/50\n",
            "218/218 [==============================] - 0s 2ms/step - loss: 180175.1250 - accuracy: 0.8698 - val_loss: 190206.6094 - val_accuracy: 0.8760\n",
            "Epoch 12/50\n",
            "218/218 [==============================] - 0s 2ms/step - loss: 180174.7656 - accuracy: 0.8698 - val_loss: 190206.3281 - val_accuracy: 0.8760\n",
            "Epoch 13/50\n",
            "218/218 [==============================] - 0s 2ms/step - loss: 180174.5312 - accuracy: 0.8698 - val_loss: 190206.1094 - val_accuracy: 0.8760\n",
            "Epoch 14/50\n",
            "218/218 [==============================] - 0s 2ms/step - loss: 180174.3281 - accuracy: 0.8698 - val_loss: 190205.9375 - val_accuracy: 0.8760\n",
            "Epoch 15/50\n",
            "218/218 [==============================] - 0s 2ms/step - loss: 180174.1094 - accuracy: 0.8698 - val_loss: 190205.8594 - val_accuracy: 0.8760\n",
            "Epoch 16/50\n",
            "218/218 [==============================] - 0s 2ms/step - loss: 180174.0469 - accuracy: 0.8698 - val_loss: 190205.7500 - val_accuracy: 0.8760\n",
            "Epoch 17/50\n",
            "218/218 [==============================] - 1s 2ms/step - loss: 180173.9531 - accuracy: 0.8698 - val_loss: 190205.7031 - val_accuracy: 0.8760\n",
            "Epoch 18/50\n",
            "218/218 [==============================] - 0s 2ms/step - loss: 180173.9062 - accuracy: 0.8698 - val_loss: 190205.6250 - val_accuracy: 0.8760\n",
            "Epoch 19/50\n",
            "218/218 [==============================] - 0s 2ms/step - loss: 180173.8594 - accuracy: 0.8698 - val_loss: 190205.5938 - val_accuracy: 0.8760\n",
            "Epoch 20/50\n",
            "218/218 [==============================] - 0s 2ms/step - loss: 180173.8281 - accuracy: 0.8698 - val_loss: 190205.5312 - val_accuracy: 0.8760\n",
            "Epoch 21/50\n",
            "218/218 [==============================] - 0s 2ms/step - loss: 180173.8125 - accuracy: 0.8698 - val_loss: 190205.4844 - val_accuracy: 0.8760\n",
            "Epoch 22/50\n",
            "218/218 [==============================] - 0s 2ms/step - loss: 180173.7031 - accuracy: 0.8698 - val_loss: 190205.4688 - val_accuracy: 0.8760\n",
            "Epoch 23/50\n",
            "218/218 [==============================] - 0s 2ms/step - loss: 180173.6719 - accuracy: 0.8698 - val_loss: 190205.4531 - val_accuracy: 0.8760\n",
            "Epoch 24/50\n",
            "218/218 [==============================] - 0s 2ms/step - loss: 180173.6094 - accuracy: 0.8698 - val_loss: 190205.4531 - val_accuracy: 0.8760\n",
            "Epoch 25/50\n",
            "218/218 [==============================] - 0s 2ms/step - loss: 180173.5312 - accuracy: 0.8698 - val_loss: 190205.4531 - val_accuracy: 0.8760\n",
            "Epoch 26/50\n",
            "218/218 [==============================] - 0s 2ms/step - loss: 180173.6406 - accuracy: 0.8698 - val_loss: 190205.4219 - val_accuracy: 0.8760\n",
            "Epoch 27/50\n",
            "218/218 [==============================] - 0s 2ms/step - loss: 180173.5781 - accuracy: 0.8698 - val_loss: 190205.4219 - val_accuracy: 0.8760\n",
            "Epoch 28/50\n",
            "218/218 [==============================] - 0s 2ms/step - loss: 180173.6250 - accuracy: 0.8698 - val_loss: 190205.4062 - val_accuracy: 0.8760\n",
            "Epoch 29/50\n",
            "218/218 [==============================] - 0s 2ms/step - loss: 180173.5938 - accuracy: 0.8698 - val_loss: 190205.4062 - val_accuracy: 0.8760\n",
            "Epoch 30/50\n",
            "218/218 [==============================] - 0s 2ms/step - loss: 180173.5156 - accuracy: 0.8698 - val_loss: 190205.4062 - val_accuracy: 0.8760\n",
            "Epoch 31/50\n",
            "218/218 [==============================] - 1s 2ms/step - loss: 180173.5156 - accuracy: 0.8698 - val_loss: 190205.3906 - val_accuracy: 0.8760\n",
            "Epoch 32/50\n",
            "218/218 [==============================] - 0s 2ms/step - loss: 180173.5469 - accuracy: 0.8698 - val_loss: 190205.3906 - val_accuracy: 0.8760\n",
            "Epoch 33/50\n",
            "218/218 [==============================] - 0s 2ms/step - loss: 180173.5000 - accuracy: 0.8698 - val_loss: 190205.3906 - val_accuracy: 0.8760\n",
            "Epoch 34/50\n",
            "218/218 [==============================] - 0s 2ms/step - loss: 180173.5469 - accuracy: 0.8698 - val_loss: 190205.3906 - val_accuracy: 0.8760\n",
            "Epoch 35/50\n",
            "218/218 [==============================] - 0s 2ms/step - loss: 180173.4844 - accuracy: 0.8698 - val_loss: 190205.3594 - val_accuracy: 0.8760\n",
            "Epoch 36/50\n",
            "218/218 [==============================] - 0s 2ms/step - loss: 180173.5469 - accuracy: 0.8698 - val_loss: 190205.3594 - val_accuracy: 0.8760\n",
            "Epoch 37/50\n",
            "218/218 [==============================] - 0s 2ms/step - loss: 180173.5938 - accuracy: 0.8698 - val_loss: 190205.3594 - val_accuracy: 0.8760\n",
            "Epoch 38/50\n",
            "218/218 [==============================] - 0s 2ms/step - loss: 180173.5156 - accuracy: 0.8698 - val_loss: 190205.3594 - val_accuracy: 0.8760\n",
            "Epoch 39/50\n",
            "218/218 [==============================] - 0s 2ms/step - loss: 180173.5312 - accuracy: 0.8698 - val_loss: 190205.3594 - val_accuracy: 0.8760\n",
            "Epoch 40/50\n",
            "218/218 [==============================] - 0s 2ms/step - loss: 180173.5000 - accuracy: 0.8698 - val_loss: 190205.3594 - val_accuracy: 0.8760\n",
            "Epoch 41/50\n",
            "218/218 [==============================] - 0s 2ms/step - loss: 180173.5000 - accuracy: 0.8698 - val_loss: 190205.3594 - val_accuracy: 0.8760\n",
            "Epoch 42/50\n",
            "218/218 [==============================] - 0s 2ms/step - loss: 180173.5156 - accuracy: 0.8698 - val_loss: 190205.3594 - val_accuracy: 0.8760\n",
            "Epoch 43/50\n",
            "218/218 [==============================] - 0s 2ms/step - loss: 180173.5938 - accuracy: 0.8698 - val_loss: 190205.3438 - val_accuracy: 0.8760\n",
            "Epoch 44/50\n",
            "218/218 [==============================] - 1s 2ms/step - loss: 180173.5156 - accuracy: 0.8698 - val_loss: 190205.3438 - val_accuracy: 0.8760\n",
            "Epoch 45/50\n",
            "218/218 [==============================] - 0s 2ms/step - loss: 180173.5000 - accuracy: 0.8698 - val_loss: 190205.3438 - val_accuracy: 0.8760\n",
            "Epoch 46/50\n",
            "218/218 [==============================] - 0s 2ms/step - loss: 180173.5469 - accuracy: 0.8698 - val_loss: 190205.3438 - val_accuracy: 0.8760\n",
            "Epoch 47/50\n",
            "218/218 [==============================] - 0s 2ms/step - loss: 180173.5469 - accuracy: 0.8698 - val_loss: 190205.3438 - val_accuracy: 0.8760\n",
            "Epoch 48/50\n",
            "218/218 [==============================] - 0s 2ms/step - loss: 180173.5156 - accuracy: 0.8698 - val_loss: 190205.3438 - val_accuracy: 0.8760\n",
            "Epoch 49/50\n",
            "218/218 [==============================] - 0s 2ms/step - loss: 180173.4219 - accuracy: 0.8698 - val_loss: 190205.3438 - val_accuracy: 0.8760\n",
            "Epoch 50/50\n",
            "218/218 [==============================] - 0s 2ms/step - loss: 180173.4688 - accuracy: 0.8698 - val_loss: 190205.3438 - val_accuracy: 0.8760\n"
          ]
        }
      ]
    },
    {
      "cell_type": "markdown",
      "source": [
        "Per trovare l'accuratezza del nostro set di dati di test, eseguiamo la seguente riga di codice. Il motivo per cui abbiamo l'indice 1 dopo la funzione model.evaluate è che la funzione restituisce la perdita come primo elemento e la accuratezza come secondo elemento. Per restituire solo l'accuratezza, è sufficiente accedere al secondo elemento (che è indicizzato con 1, poiché il primo elemento inizia la sua indicizzazione da 0)."
      ],
      "metadata": {
        "id": "IkUEunpo6JFS"
      }
    },
    {
      "cell_type": "code",
      "source": [
        "model.evaluate(X_test, Y_test)[1]"
      ],
      "metadata": {
        "id": "z412XjAL6Ki8",
        "colab": {
          "base_uri": "https://localhost:8080/"
        },
        "outputId": "205c143f-a21c-4b58-855a-b5a7acb335db"
      },
      "execution_count": null,
      "outputs": [
        {
          "output_type": "stream",
          "name": "stdout",
          "text": [
            "47/47 [==============================] - 0s 2ms/step - loss: 164428.3438 - accuracy: 0.8800\n"
          ]
        },
        {
          "output_type": "execute_result",
          "data": {
            "text/plain": [
              "0.8800268173217773"
            ]
          },
          "metadata": {},
          "execution_count": 16
        }
      ]
    },
    {
      "cell_type": "markdown",
      "source": [
        "**Predizione**"
      ],
      "metadata": {
        "id": "xzRX5K8n9EyF"
      }
    },
    {
      "cell_type": "markdown",
      "source": [
        "Nella fase di predizione, andiamo a predire i valori di: CPU (cores), MEMORY (bytes) e ACTIVE PODS."
      ],
      "metadata": {
        "id": "r_LAMHSJzYQc"
      }
    },
    {
      "cell_type": "code",
      "source": [
        "predicted_y = model.predict(X_test)\n",
        "print (X_test) #test dataset\n",
        "print (predicted_y) #predicted values"
      ],
      "metadata": {
        "id": "TqNa99bD9HDU",
        "colab": {
          "base_uri": "https://localhost:8080/"
        },
        "outputId": "8cfd5749-929c-4a8d-c4ba-75042567a1a9"
      },
      "execution_count": null,
      "outputs": [
        {
          "output_type": "stream",
          "name": "stdout",
          "text": [
            "47/47 [==============================] - 0s 1ms/step\n",
            "[0.73  0.117 0.375 ... 0.058 0.631 0.761]\n",
            "[[0.99999994 0.9999986  0.44856483]\n",
            " [0.999974   0.9998878  0.44847718]\n",
            " [0.9999976  0.9999824  0.44851404]\n",
            " ...\n",
            " [0.99995506 0.9998286  0.44846874]\n",
            " [0.99999976 0.9999972  0.44855067]\n",
            " [0.99999994 0.9999989  0.44856924]]\n"
          ]
        }
      ]
    },
    {
      "cell_type": "markdown",
      "source": [
        "# Visualizzare la funzione di perdita e la metrica dell'accuratezza"
      ],
      "metadata": {
        "id": "-mS4Mjb-rDtu"
      }
    },
    {
      "cell_type": "markdown",
      "source": [
        "Quello che vorremmo fare è tracciare 4 grafici: funzione di perdita riguardante il set di train e funzione di perdita riguardante il set di validazione in base al numero di epoche trascorse. Stessa cosa per la accuratezza. Per la visualizzazione dei grafici, utilizzeremo la libreria matplotlib. Importiamo prima di tutto la libreria:"
      ],
      "metadata": {
        "id": "nvl_8GDQXgj9"
      }
    },
    {
      "cell_type": "code",
      "source": [
        "import matplotlib.pyplot as plt"
      ],
      "metadata": {
        "id": "CtzLXhGorOqp"
      },
      "execution_count": null,
      "outputs": []
    },
    {
      "cell_type": "markdown",
      "source": [
        "Tracciamo la funzione di perdita relativa al set di dati di train e validazione."
      ],
      "metadata": {
        "id": "Mi5-C_KMq1-_"
      }
    },
    {
      "cell_type": "code",
      "source": [
        "plt.plot(hist.history['loss'], color=\"g\")\n",
        "#plt.plot(hist.history['val_loss'])\n",
        "plt.title('Model loss')\n",
        "plt.ylabel('Loss')\n",
        "plt.xlabel('Epoch')\n",
        "plt.legend(['Train'], loc='upper right')\n",
        "plt.show()\n",
        "\n",
        "#plt.plot(hist.history['loss'])\n",
        "plt.plot(hist.history['val_loss'])\n",
        "plt.title('Model loss')\n",
        "plt.ylabel('Loss')\n",
        "plt.xlabel('Epoch')\n",
        "plt.legend(['Val'], loc='upper right')\n",
        "plt.show()"
      ],
      "metadata": {
        "id": "6P9tKWPyXAw7",
        "colab": {
          "base_uri": "https://localhost:8080/",
          "height": 573
        },
        "outputId": "5d8a725a-5b42-49c9-e132-f77f17c11ca6"
      },
      "execution_count": null,
      "outputs": [
        {
          "output_type": "display_data",
          "data": {
            "text/plain": [
              "<Figure size 432x288 with 1 Axes>"
            ],
            "image/png": "[encoded data removed]"
          },
          "metadata": {
            "needs_background": "light"
          }
        },
        {
          "output_type": "display_data",
          "data": {
            "text/plain": [
              "<Figure size 432x288 with 1 Axes>"
            ],
            "image/png": "[encoded data removed]"
          },
          "metadata": {
            "needs_background": "light"
          }
        }
      ]
    },
    {
      "cell_type": "markdown",
      "source": [
        "Possiamo fare lo stesso tracciando l'accuratezza dei dati di training e l'accuratezza dei dati di validazione con il codice seguente:"
      ],
      "metadata": {
        "id": "wT9I73FdrZbA"
      }
    },
    {
      "cell_type": "code",
      "source": [
        "plt.plot(hist.history['accuracy'], color=\"g\")\n",
        "#plt.plot(hist.history['val_accuracy'])\n",
        "plt.title('Model accuracy')\n",
        "plt.ylabel('Accuracy')\n",
        "plt.xlabel('Epoch')\n",
        "plt.legend(['Train'], loc='lower right')\n",
        "plt.show()\n",
        "\n",
        "#plt.plot(hist.history['accuracy'])\n",
        "plt.plot(hist.history['val_accuracy'])\n",
        "plt.title('Model accuracy')\n",
        "plt.ylabel('Accuracy')\n",
        "plt.xlabel('Epoch')\n",
        "plt.legend(['Val'], loc='lower right')\n",
        "plt.show()"
      ],
      "metadata": {
        "id": "tVoPb1rhraTL",
        "colab": {
          "base_uri": "https://localhost:8080/",
          "height": 573
        },
        "outputId": "cf30e26a-2f6f-43e6-8598-1ac6abb9dc11"
      },
      "execution_count": null,
      "outputs": [
        {
          "output_type": "display_data",
          "data": {
            "text/plain": [
              "<Figure size 432x288 with 1 Axes>"
            ],
            "image/png": "[encoded data removed]"
          },
          "metadata": {
            "needs_background": "light"
          }
        },
        {
          "output_type": "display_data",
          "data": {
            "text/plain": [
              "<Figure size 432x288 with 1 Axes>"
            ],
            "image/png": "[encoded data removed]"
          },
          "metadata": {
            "needs_background": "light"
          }
        }
      ]
    }
  ]
}